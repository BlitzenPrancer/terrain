{
 "cells": [
  {
   "cell_type": "markdown",
   "metadata": {},
   "source": [
    "## Decorator Basics\n",
    "1) Nested function\n",
    "2) Functions as a Parameter\n",
    "3) Functions as reference\n",
    "4) Function return another function"
   ]
  },
  {
   "cell_type": "markdown",
   "metadata": {},
   "source": [
    "python -m trace --trace trace_example/main.py"
   ]
  },
  {
   "cell_type": "code",
   "execution_count": 1,
   "metadata": {},
   "outputs": [
    {
     "name": "stdout",
     "output_type": "stream",
     "text": [
      "mark zuckerberg\n"
     ]
    }
   ],
   "source": [
    "# Nested Function\n",
    "def OuterFunction():\n",
    "    msg1 = \"mark \"\n",
    "    # this wont be executed first\n",
    "    def InnerFunction(): #Nested function\n",
    "        msg2 = \"zuckerberg\"\n",
    "        msg = msg1 + msg2\n",
    "        return msg\n",
    "    # this would be executed first\n",
    "    return InnerFunction\n",
    "\n",
    "output = OuterFunction() #Function Return Another Function\n",
    "print(output()) #Function as a reference"
   ]
  },
  {
   "cell_type": "code",
   "execution_count": 2,
   "metadata": {},
   "outputs": [
    {
     "name": "stdout",
     "output_type": "stream",
     "text": [
      "This is Function 1\n",
      "This is Function 2\n"
     ]
    }
   ],
   "source": [
    "# Function as a parameter\n",
    "def func1():\n",
    "    print(\"This is Function 1\")\n",
    "\n",
    "def func2(ref):\n",
    "    ref()\n",
    "    print(\"This is Function 2\")\n",
    "\n",
    "func2(func1)"
   ]
  },
  {
   "cell_type": "markdown",
   "metadata": {},
   "source": [
    "Decorator\n",
    "---------\n",
    "1) Function Decorator\n",
    "2) Class Decorator\n",
    "\n",
    "1) Single Decorator\n",
    "2) Multiple Decorator\n",
    "\n",
    "1) With Argument\n",
    "2) Without argument"
   ]
  },
  {
   "cell_type": "code",
   "execution_count": 3,
   "metadata": {},
   "outputs": [
    {
     "name": "stdout",
     "output_type": "stream",
     "text": [
      "WELCOME\n"
     ]
    }
   ],
   "source": [
    "# decorator\n",
    "def UpperString(result):\n",
    "    def process():\n",
    "        data = result()\n",
    "        return data.upper()\n",
    "    return process\n",
    "    \n",
    "def Greet():\n",
    "    return \"welcome\"\n",
    "\n",
    "result = Greet()\n",
    "\n",
    "test = UpperString(Greet)\n",
    "print(test())\n"
   ]
  },
  {
   "cell_type": "code",
   "execution_count": 4,
   "metadata": {},
   "outputs": [
    {
     "name": "stdout",
     "output_type": "stream",
     "text": [
      "WELCOME\n"
     ]
    }
   ],
   "source": [
    "# single decorator\n",
    "def UpperString(result):\n",
    "    def process():\n",
    "        data = result()\n",
    "        return data.upper()\n",
    "    return process\n",
    "\n",
    "@UpperString    \n",
    "def Greet():\n",
    "    return \"welcome\"\n",
    "\n",
    "result = Greet()\n",
    "print(result)\n",
    "\n",
    "# test = UpperString(Greet)\n",
    "# print(test())"
   ]
  },
  {
   "cell_type": "code",
   "execution_count": 5,
   "metadata": {},
   "outputs": [
    {
     "name": "stdout",
     "output_type": "stream",
     "text": [
      "['WELCOME', 'TO', 'EARTH']\n"
     ]
    }
   ],
   "source": [
    "# multiple decorator\n",
    "def UpperString(result):\n",
    "    def process():\n",
    "        data = result()\n",
    "        return data.upper()\n",
    "    return process\n",
    "\n",
    "def Split(ref):\n",
    "    def process():\n",
    "        data = ref()\n",
    "        result = data.split()\n",
    "        return result\n",
    "    return process\n",
    "\n",
    "@Split\n",
    "@UpperString  \n",
    "def Greet():\n",
    "    return \"welcome to earth\"\n",
    "\n",
    "result = Greet()\n",
    "print(result)\n",
    "\n",
    "# test = UpperString(Greet)\n",
    "# print(test())"
   ]
  },
  {
   "cell_type": "code",
   "execution_count": 6,
   "metadata": {},
   "outputs": [
    {
     "name": "stdout",
     "output_type": "stream",
     "text": [
      "welcome to metaverse\n"
     ]
    }
   ],
   "source": [
    "def greet(func):\n",
    "    def do_something():\n",
    "        func()\n",
    "    return do_something\n",
    "    \n",
    "def message():\n",
    "    print(\"welcome to metaverse\")\n",
    "\n",
    "result = greet(message)\n",
    "result()"
   ]
  },
  {
   "cell_type": "code",
   "execution_count": 7,
   "metadata": {},
   "outputs": [
    {
     "name": "stdout",
     "output_type": "stream",
     "text": [
      "Hi\n",
      "Welcome to Metaverse\n",
      "Bye\n"
     ]
    }
   ],
   "source": [
    "# my own decorator\n",
    "def greet(func):\n",
    "    def some_name():\n",
    "        print(\"Hi\")\n",
    "        func()\n",
    "        print(\"Bye\")\n",
    "    return some_name\n",
    "\n",
    "@greet\n",
    "def message():\n",
    "    print(\"Welcome to Metaverse\")\n",
    "\n",
    "# output = greet(message)\n",
    "# output()\n",
    "\n",
    "message()"
   ]
  },
  {
   "cell_type": "code",
   "execution_count": 8,
   "metadata": {},
   "outputs": [
    {
     "name": "stdout",
     "output_type": "stream",
     "text": [
      "WELCOME TO EARTH This is a decorator with parameter\n"
     ]
    }
   ],
   "source": [
    "# decorator with argument\n",
    "# when you pass a parameter to decorator, you must add an extra function to already existing function \n",
    "\n",
    "def OuterFunction(str):\n",
    "    def UpperString(result):\n",
    "        def process():\n",
    "            data = result()\n",
    "            return data.upper() + str\n",
    "        return process\n",
    "    return UpperString\n",
    "\n",
    "@OuterFunction(\"This is a decorator with parameter\")  \n",
    "def Greet():\n",
    "    return \"welcome to earth \"\n",
    "\n",
    "result = Greet()\n",
    "print(result)"
   ]
  },
  {
   "cell_type": "code",
   "execution_count": 9,
   "metadata": {},
   "outputs": [
    {
     "name": "stdout",
     "output_type": "stream",
     "text": [
      "hello\n",
      "waseem\n",
      "welcome!\n"
     ]
    }
   ],
   "source": [
    "# another decorator with arguments\n",
    "def function1(function):\n",
    "    def wrapper(*args, **kwargs):\n",
    "        print('hello')\n",
    "        function(*args, **kwargs)\n",
    "        print(\"welcome!\")\n",
    "    return wrapper\n",
    "\n",
    "@function1\n",
    "def function2(name):\n",
    "    print(f'{name}')\n",
    "\n",
    "\n",
    "function2('waseem')"
   ]
  },
  {
   "cell_type": "code",
   "execution_count": 10,
   "metadata": {},
   "outputs": [
    {
     "name": "stdout",
     "output_type": "stream",
     "text": [
      "it worked\n"
     ]
    }
   ],
   "source": [
    "def function1(function):\n",
    "    def wrapper(*args, **kwargs):\n",
    "            print(\"it worked\")\n",
    "    return wrapper\n",
    "    \n",
    "@function1\n",
    "def function2(name):\n",
    "    print(f\"{name}\")\n",
    " \n",
    "function2(\"python\")"
   ]
  },
  {
   "cell_type": "code",
   "execution_count": 11,
   "metadata": {},
   "outputs": [
    {
     "name": "stdout",
     "output_type": "stream",
     "text": [
      "HELLO RAM AND SAM\n"
     ]
    }
   ],
   "source": [
    "# class decorator\n",
    "class MyDecorator:\n",
    "    def __init__(self, ref):\n",
    "        self.ref = ref\n",
    "\n",
    "    # call function is a constructor\n",
    "    # this function will be automatically called if you pass a value to an object\n",
    "    def __call__(self, *args):  # you can pass value to this using an object\n",
    "        return self.ref(*args).upper()\n",
    "\n",
    "@MyDecorator\n",
    "def myFunction(arg1, arg2):\n",
    "    return f'Hello {arg1} and {arg2}'\n",
    "\n",
    "# obj = MyDecorator(myFunction)\n",
    "# print(obj(\"Ram\", \"Sam\"))\n",
    "\n",
    "print(myFunction(\"Ram\", \"Sam\"))"
   ]
  },
  {
   "cell_type": "code",
   "execution_count": 12,
   "metadata": {},
   "outputs": [
    {
     "name": "stdout",
     "output_type": "stream",
     "text": [
      "Ric Ross\n",
      "Rose\n"
     ]
    }
   ],
   "source": [
    "class TrapArtist:\n",
    "    def __init__(self, name):\n",
    "        # whu underscore name?\n",
    "        # Python convention that if you have an object property that you don't want anything outside of the object to access, you prefix with an underscore\n",
    "        self.__name = name # property of the object\n",
    "    \n",
    "    # so instead of referring/ instead of assigning and getting underscore name directly, \n",
    "    # we assign through the constructor and we get it through this getter function name\n",
    "    @property # this getter property decorator changes the semantics of the function in such a way that we don't need to explicitly  call the function anymore, we can simply refer to it.\n",
    "    def name(self):\n",
    "        return self.__name \n",
    "    # we can now refer to the function as through its an attribute, that's what property does.\n",
    "\n",
    "    # Setter property\n",
    "    # This allows to change the name \n",
    "    @name.setter\n",
    "    def name(self, name):\n",
    "        self.__name = name\n",
    "\n",
    "rr = TrapArtist(\"Ric Ross\")\n",
    "print(rr.name)\n",
    "# using setter function\n",
    "rr.name = \"Rose\"\n",
    "print(rr.name)"
   ]
  }
 ],
 "metadata": {
  "interpreter": {
   "hash": "210c54361a84c720f68434e6d6c780fe99326daa37aad87f00c0a9928840c6bd"
  },
  "kernelspec": {
   "display_name": "Python 3.9.7 64-bit",
   "name": "python3"
  },
  "language_info": {
   "codemirror_mode": {
    "name": "ipython",
    "version": 3
   },
   "file_extension": ".py",
   "mimetype": "text/x-python",
   "name": "python",
   "nbconvert_exporter": "python",
   "pygments_lexer": "ipython3",
   "version": "3.9.7"
  },
  "orig_nbformat": 4
 },
 "nbformat": 4,
 "nbformat_minor": 2
}
