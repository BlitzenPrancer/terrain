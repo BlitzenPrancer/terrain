{
 "cells": [
  {
   "cell_type": "markdown",
   "metadata": {},
   "source": [
    "# Type conversion\n",
    "1) Implicit type conversion\n",
    "2) Explicit type conversion"
   ]
  },
  {
   "cell_type": "code",
   "execution_count": 2,
   "metadata": {},
   "outputs": [
    {
     "name": "stdout",
     "output_type": "stream",
     "text": [
      "<class 'int'>\n",
      "<class 'float'>\n",
      "<class 'float'>\n"
     ]
    }
   ],
   "source": [
    "# implicit type conversion\n",
    "x = 1\n",
    "print(type(x))\n",
    "y = 20.1\n",
    "print(type(y))\n",
    "z = x + y\n",
    "print(type(z))"
   ]
  },
  {
   "cell_type": "markdown",
   "metadata": {},
   "source": [
    "# Explicit type conversion\n",
    "1. int(a, base)\n",
    "2. float()"
   ]
  },
  {
   "cell_type": "code",
   "execution_count": 19,
   "metadata": {},
   "outputs": [
    {
     "name": "stdout",
     "output_type": "stream",
     "text": [
      "Type of s is <class 'str'>\n",
      "After converting to integer base 2: 42\n",
      "It's type is <class 'int'>\n",
      "42.0\n"
     ]
    }
   ],
   "source": [
    "# Explicit type conversion\n",
    "s = \"101010\"\n",
    "print(\"Type of s is \", end = \"\")\n",
    "print(type(s))\n",
    "\n",
    "# converting it to base 2\n",
    "a = int(s, 2)\n",
    "print(\"After converting to integer base 2: \", end = \"\")\n",
    "print(a)\n",
    "print(\"It's type is \", end =\"\")\n",
    "print(type(a))\n",
    "\n",
    "# converting int to float\n",
    "e = float(a)\n",
    "print(e)"
   ]
  },
  {
   "cell_type": "markdown",
   "metadata": {},
   "source": [
    "3. ord() - converts character to integer\n",
    "4. hex() - converts integer to hexadecimal string\n",
    "5. oct() - converts integer to octal string"
   ]
  },
  {
   "cell_type": "code",
   "execution_count": 30,
   "metadata": {},
   "outputs": [
    {
     "name": "stdout",
     "output_type": "stream",
     "text": [
      "After conerting character to an integer 97\n",
      "0x61\n",
      "<class 'str'>\n",
      "0o141\n",
      "<class 'str'>\n"
     ]
    }
   ],
   "source": [
    "s = 'a'\n",
    "c = ord(s)\n",
    "print(\"After conerting character to an integer\", end = \" \")\n",
    "print(c)\n",
    "\n",
    "\n",
    "d = hex(c)\n",
    "print(d)\n",
    "print(type(d))\n",
    "\n",
    "e = oct(c)\n",
    "print(e)\n",
    "print(type(e))"
   ]
  },
  {
   "cell_type": "markdown",
   "metadata": {},
   "source": [
    "6. tuple()\n",
    "7. set()\n",
    "8. list()"
   ]
  },
  {
   "cell_type": "code",
   "execution_count": 37,
   "metadata": {},
   "outputs": [
    {
     "name": "stdout",
     "output_type": "stream",
     "text": [
      "After converting to Tuple ('g', 'e', 'e', 'k', 's')\n",
      "After converting to Set {'e', 's', 'k', 'g'}\n",
      "After converting to List ['g', 'e', 'e', 'k', 's']\n"
     ]
    }
   ],
   "source": [
    "code = 'geeks'\n",
    "\n",
    "a = tuple(code)\n",
    "print(\"After converting to Tuple\", end = \" \")\n",
    "print(a)\n",
    "\n",
    "s = set(code)\n",
    "print(\"After converting to Set\", end = \" \")\n",
    "print(s)\n",
    "\n",
    "s = list(code)\n",
    "print(\"After converting to List\", end = \" \")\n",
    "print(s)"
   ]
  },
  {
   "cell_type": "markdown",
   "metadata": {},
   "source": [
    "9) dict()\n",
    "10) complex()\n",
    "11) str()"
   ]
  },
  {
   "cell_type": "code",
   "execution_count": 51,
   "metadata": {},
   "outputs": [
    {
     "name": "stdout",
     "output_type": "stream",
     "text": [
      "After converting Tuple of order into a dictionary: {'1': 'a', '2': 'b', '3': 'c'}\n",
      "After Converting real no. to imaginary number: (1+2j)\n",
      "After converting integer into string 1\n"
     ]
    }
   ],
   "source": [
    "a, b = 1,2\n",
    "\n",
    "tup = (('1', 'a'), ('2', 'b'), ('3', 'c'))\n",
    "print(\"After converting Tuple of order into a dictionary: \", end = \"\")\n",
    "print(dict(tup))\n",
    "\n",
    "b = complex(a, b)\n",
    "print(\"After Converting real no. to imaginary number:\", end  = \" \")\n",
    "print(b)\n",
    "\n",
    "c = str(a)\n",
    "print(\"After converting integer into string\", end = \" \" )\n",
    "print(c)"
   ]
  },
  {
   "cell_type": "markdown",
   "metadata": {},
   "source": [
    "12. chr - converts number into it's correspoinding ASCII character"
   ]
  },
  {
   "cell_type": "code",
   "execution_count": 56,
   "metadata": {},
   "outputs": [
    {
     "name": "stdout",
     "output_type": "stream",
     "text": [
      "O\n"
     ]
    }
   ],
   "source": [
    "print(chr(79))"
   ]
  }
 ],
 "metadata": {
  "interpreter": {
   "hash": "210c54361a84c720f68434e6d6c780fe99326daa37aad87f00c0a9928840c6bd"
  },
  "kernelspec": {
   "display_name": "Python 3.9.7 64-bit",
   "language": "python",
   "name": "python3"
  },
  "language_info": {
   "codemirror_mode": {
    "name": "ipython",
    "version": 3
   },
   "file_extension": ".py",
   "mimetype": "text/x-python",
   "name": "python",
   "nbconvert_exporter": "python",
   "pygments_lexer": "ipython3",
   "version": "3.9.7"
  },
  "orig_nbformat": 4
 },
 "nbformat": 4,
 "nbformat_minor": 2
}
